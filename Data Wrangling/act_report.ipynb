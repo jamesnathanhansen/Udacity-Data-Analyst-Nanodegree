{
 "cells": [
  {
   "cell_type": "markdown",
   "metadata": {},
   "source": [
    "# Action Report"
   ]
  },
  {
   "cell_type": "markdown",
   "metadata": {},
   "source": [
    "In this document, I report all my insights and accompanying visualizations for the wrangle_act notebook. \n",
    "\n",
    "The cleaned dataset contains ratings about different dogs and the counts for retweets and favourites. It would be interesting to find insights on how good the good dogs are by observing the ratings distribution. It would also be helpful to understand the popularity of the WeRateDogs Twitter account."
   ]
  },
  {
   "cell_type": "markdown",
   "metadata": {},
   "source": [
    "I first plotted the distribution of the ratings taken from `rating_numerator` column. \n",
    "\n",
    "![Alt text](rating_dist.png)\n",
    "\n",
    "As it can be seen, most ratings are between 10 and 15. There are a few outliers past 20. There was no cap indicated so these might be valid values. However if they are not, they could be adjusted to fit a scale between 10-20. The following pie chart displays the dominant ratings more clearly:\n",
    "\n",
    "![Alt text](rating_pie.png)\n",
    "\n",
    "This pie chart suggests that raters tend to evaluate most dogs towards the lower end of the scale."
   ]
  },
  {
   "cell_type": "markdown",
   "metadata": {},
   "source": [
    "To investigate the popularity of the WeRateDogs Twitter account, I first plotted the distribution of the retweet count and favourited count.\n",
    "\n",
    "![Alt text](retweet_dist.png)\n",
    "\n",
    "![Alt text](fav_dist.png)\n",
    "\n",
    "The distributions are both right-skewed. This is typical of social media posts where the most 'liked' content is heavily dominated by a few tweets and a large amount of posts having a lower retweet/favourited count. \n",
    "\n",
    "To investigate this further I plotted a boxplot of the retweet count and favourite count. The second graph has the y-axis is log scaled due to the number of outlier with large counts. \n",
    "\n",
    "![Alt text](box_plot.png)\n",
    "\n",
    "![Alt text](box_plot_log.png)\n",
    "\n",
    "Based on the boxplot, we can see they follow a similar structure and the majority of the counts lie below 10000. \n",
    "\n",
    "I also plotted the mean retweet count and mean favourited count in a abr chart with the number of tweets in the dataset. This allowed comparison of the average number of retweets and favorutied per tweet.\n",
    "\n",
    "![Alt text](bar_chart.png)\n",
    "\n",
    "The final bar graph shows the popularity of the WeRateDogs page. After dividing the average counts by the tweet count< i determined tha the average tweet returns 1.3x as many retweets and 4.2x as many favourites. Indeed this is popular page and the people love dog pictures and rating them. What is intersting to note is that people tend to like the posts more than they tend to reshare the posts. This may indicate that one could easilt set up a similar page for cats or other animals if desired.\n",
    "\n",
    "1. The most common ratings were from 9-13. \n",
    "2. The most popular names were Charlie and Lucy, followed by Charlie and Oliver.\n",
    "3. The most poplar dog breed was Golden Retriever followed by Labrador Retriver."
   ]
  }
 ],
 "metadata": {
  "kernelspec": {
   "display_name": "Python 3 (ipykernel)",
   "language": "python",
   "name": "python3"
  },
  "language_info": {
   "codemirror_mode": {
    "name": "ipython",
    "version": 3
   },
   "file_extension": ".py",
   "mimetype": "text/x-python",
   "name": "python",
   "nbconvert_exporter": "python",
   "pygments_lexer": "ipython3",
   "version": "3.9.15"
  }
 },
 "nbformat": 4,
 "nbformat_minor": 2
}
